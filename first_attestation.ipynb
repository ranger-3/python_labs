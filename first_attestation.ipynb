{
  "metadata": {
    "kernelspec": {
      "name": "python",
      "display_name": "Python (Pyodide)",
      "language": "python"
    },
    "language_info": {
      "codemirror_mode": {
        "name": "python",
        "version": 3
      },
      "file_extension": ".py",
      "mimetype": "text/x-python",
      "name": "python",
      "nbconvert_exporter": "python",
      "pygments_lexer": "ipython3",
      "version": "3.8"
    }
  },
  "nbformat_minor": 5,
  "nbformat": 4,
  "cells": [
    {
      "id": "1453fbd5e471a5cd",
      "cell_type": "markdown",
      "source": "# Аттестация №1",
      "metadata": {}
    },
    {
      "id": "1db49e463da46021",
      "cell_type": "markdown",
      "source": "### Задание №1\nНапишите программу, которая принимает словарь `input_dict` и возвращает строку вида: `ключ=значение&ключ=значение`\n\nСтрока должна быть лексикографически отсортирована по ключам исходного словаря. Сохраните полученный ответ в `result`.",
      "metadata": {}
    },
    {
      "id": "initial_id",
      "cell_type": "code",
      "source": "input_dict = {'lesson': 2, 'task': 4, 'course': 'python'}\nresult = 'course=python&lesson=2&task=4'",
      "metadata": {
        "collapsed": true,
        "ExecuteTime": {
          "end_time": "2024-12-09T13:15:08.317204Z",
          "start_time": "2024-12-09T13:15:08.313520Z"
        },
        "jupyter": {
          "outputs_hidden": true
        }
      },
      "outputs": [],
      "execution_count": 1
    },
    {
      "id": "4025e26c2e18bc2f",
      "cell_type": "code",
      "source": "# Напиши решение тут\ninput_dict = {'lesson': 2, 'task': 4, 'course': 'python'}\n\nlst = (f'{key}={value}' for key, value in sorted(input_dict.items()))\n\nresult = '&'.join(lst)\n\nprint(result)",
      "metadata": {},
      "outputs": [],
      "execution_count": null
    },
    {
      "id": "782b3120fa932c5d",
      "cell_type": "markdown",
      "source": "### Задание №2\nНапишите программу, которая будет принимать число n и проверять, кратна ли каждая его цифра цифре, стоящей слева от нее. Ответ сохраните в `result` в виде массива булевых значений результатов проверок.\n\n`result` всегда должен начинаться с False, так как слева от первой цифры ничего нет.\n\nПример:\n```python\nn = 462825624\nresult = [False, False, False, True, False, False, False, False, True]\n```",
      "metadata": {}
    },
    {
      "id": "657f2f13cbfa3383",
      "cell_type": "code",
      "source": "# Напиши решение тут\ndef check_divisibility(n):\n    digits = str(n)\n    result = [False]\n\n    for i in range(1, len(digits)):\n        left_digit = int(digits[i-1])\n        right_digit = int(digits[i])\n        if left_digit != 0 and right_digit % left_digit == 0:\n            result.append(True)\n        else:\n            result.append(False)\n\n    return result\n\nn = 462825624\nresult = check_divisibility(n)\nprint(result)\n",
      "metadata": {
        "ExecuteTime": {
          "end_time": "2024-12-17T21:00:28.477188Z",
          "start_time": "2024-12-17T21:00:28.475122Z"
        }
      },
      "outputs": [],
      "execution_count": null
    },
    {
      "id": "68f16e7b8c3ee89b",
      "cell_type": "markdown",
      "source": "### Задание №3\nНапишите программу, которая анализирует введенный текст и возвращает статистику. Требуется реализовать **несколько функций**, каждая из которых будет выполнять определенную задачу.\n\n---\n\n**Остановимся более подробно:**\n1. Напишите функцию **`count_letters(text)`**, которая возвращает количество букв (только латиницы и кириллицы) в тексте.\n2. Напишите функцию **`count_digits(text)`**, которая возвращает количество цифр.\n3. Напишите функцию **`count_words(text)`**, которая возвращает количество слов. Слово — это последовательность букв.\n4. Напишите функцию **`analyze_text(text)`**, которая вызывает все вышеперечисленные функции и возвращает общий результат в виде словаря:\n   ```python\n   {\n       \"letters\": <количество букв>,\n       \"digits\": <количество цифр>,\n       \"words\": <количество слов>\n   }\n   ```\n5. Выведите результат работы функции **`analyze_text`** для введенной строки.\n\n\n**Пример работы программы:**\n\nВвод:\n```\nВведите текст: Привет, это тестовый текст 123, с 7 словами!\n```\n\nВывод:\n```\nАнализ текста:\nКоличество букв: 24\nКоличество цифр: 4\nКоличество слов: 7\n```\n\n\n\n",
      "metadata": {}
    },
    {
      "id": "dc3147cbb4f8da7c",
      "cell_type": "code",
      "source": "def count_letters(text):\n    count = 0\n    for char in text:\n        if char.isalpha():\n            count += 1\n    return count\n\ndef count_digits(text):\n    count = 0\n    for char in text:\n        if char.isdigit():\n            count += 1\n    return count\n\ndef count_words(text):\n    count = 0\n    in_word = False\n    for char in text:\n        if char.isalpha():\n            if not in_word:\n                count += 1\n                in_word = True\n        else:\n            in_word = False\n    return count\n\ndef analyze_text(text):\n    return {\n        \"letters\": count_letters(text),\n        \"digits\": count_digits(text),\n        \"words\": count_words(text)\n    }\n\ntext = input(\"Введите текст: \")\nresult = analyze_text(text)\n\nprint(\"Анализ текста:\")\nprint(f\"Количество букв: {result['letters']}\")\nprint(f\"Количество цифр: {result['digits']}\")\nprint(f\"Количество слов: {result['words']}\")",
      "metadata": {},
      "outputs": [],
      "execution_count": null
    },
    {
      "id": "9b4c0041c65b1ef2",
      "cell_type": "markdown",
      "source": "### Задача: Распределение учеников по факультетам Хогвартса\n\nВ Хогвартсе проходит церемония распределения первокурсников. На основании качеств, которые видит распределяющая шляпа, учеников зачисляют на один из факультетов:  \n\n- **Гриффиндор**: отвага, доброта, решительность.  \n- **Пуффендуй**: усердие, дружелюбие, терпимость.  \n- **Когтевран**: знание, изобретательность, рассудительность.  \n- **Слизерин**: амбиции, находчивость, целеустремленность.  \n\nНеобходимо реализовать функцию `sorting_hat()`, которая принимает словарь с учениками, где:  \n- **Ключ** — имя ученика.  \n- **Значение** — качество, определяющее его факультет.  \n\nФункция должна вернуть два результата:  \n\n1. **sorted_students** — словарь, где ключ — имя ученика, а значение — факультет, на который он зачислен.  \n   - Данные должны быть отсортированы по названию факультета, а затем по имени ученика.  \n\n2. **departments** — словарь, где ключ — факультет, а значение — количество зачисленных учеников.  \n   - Данные должны быть отсортированы по названию факультета.  \n\n### Пример входных данных:  \n```python\nnew_students = {\n    'Сириус Блэк': 'отвага',\n    'Аманда Коршун': 'знание',\n    'Пенелопа Вулпинголд': 'находчивость',\n    'Артур Поттер': 'отвага',\n    'Тесая Блэк': 'изобретательность'\n}\n```\n\n### Пример результата:  \n```python\n# sorted_students:\n{\n    'Артур Поттер': 'Гриффиндор',\n    'Сириус Блэк': 'Гриффиндор',\n    'Аманда Коршун': 'Когтевран',\n    'Тесая Блэк': 'Когтевран',\n    'Пенелопа Вулпинголд': 'Слизерин'\n}\n\n# departments:\n{\n    'Гриффиндор': 2,\n    'Когтевран': 2,\n    'Пуффендуй': 0,\n    'Слизерин': 1\n}\n```",
      "metadata": {}
    },
    {
      "id": "4385d4b355c7121f",
      "cell_type": "code",
      "source": "# Напиши решение тут\ndef sorting_hat(new_students):\n    faculties = {\n        'Гриффиндор': ['отвага', 'доброта', 'решительность'],\n        'Пуффендуй': ['усердие', 'дружелюбие', 'терпимость'],\n        'Когтевран': ['знание', 'изобретательность', 'рассудительность'],\n        'Слизерин': ['амбиции', 'находчивость', 'целеустремленность']\n    }\n\n    sorted_students = {}\n    departments = {'Гриффиндор': 0, 'Пуффендуй': 0, 'Когтевран': 0, 'Слизерин': 0}\n\n    for student, quality in new_students.items():\n        for faculty, qualities in faculties.items():\n            if quality in qualities:\n                sorted_students[student] = faculty\n                departments[faculty] += 1\n                break\n\n    sorted_students = dict(sorted(sorted_students.items(), key=lambda item: (item[1], item[0])))\n    departments = dict(sorted(departments.items()))\n\n    return sorted_students, departments\n\n\nnew_students = {\n    'Сириус Блэк': 'отвага',\n    'Аманда Коршун': 'знание',\n    'Пенелопа Вулпинголд': 'находчивость',\n    'Артур Поттер': 'отвага',\n    'Тесая Блэк': 'изобретательность'\n}\n\nsorted_students, departments = sorting_hat(new_students)\n\nprint(\"sorted_students:\", sorted_students)\nprint(\"departments:\", departments)\n",
      "metadata": {},
      "outputs": [],
      "execution_count": null
    },
    {
      "id": "ac789ebd9aa897d9",
      "cell_type": "markdown",
      "source": "### Задание №5\nВ `my_string`  хранится зашифрованная строка, например:\n```python\n# Зашифрованная строка\nmy_string = 'sccfxpzijc is fuc bcd sxcizicg'\n```\nВ словаре `secret_dict`  хранится ключ к шифру, набор символов, которые нужно заменить:\n```python\n# Словарь шифра\n\nsecret_dict = {\n'v': 'w',\n'x': 'y',\n'i': 'h',\n'q': 'l',\n'c': 'n',\n'o': 'm',\n'b': 'a',\n'f': 'r',\n'j': 'o',\n's': 'e',\n'z': 't',\n'g': 'k',\n'l': ' ',\n'k': 'c',\n'm': 'p',\n'n': 'i',\n'w': 's',\n'd': 'f',\n'u': 'u',\n'r': 'd',\n'e': 'x',\n'y': 'g'}\n```\nТаким образом, словарь `secret_dict` говорит нам, что в строке `my_string` букву `v` нужно заменить на `m`, `s` на 'e' и т. д. Если мы сделаем такие замены в строке my_string, то `sckfxmznjclnwlduclbcrlseknzncy` превратится в `encryption is fun and exciting`.\n\nНапишите программу, которая расшифровывает строку `my_string = 'nlbolyjccblyszlblzsclnclmxzijc'` при помощи словаря secret_dict. Расшифрованную строку сохраните в переменную decrypted_string.",
      "metadata": {}
    },
    {
      "id": "48c201ee026f8ae5",
      "cell_type": "code",
      "source": "# Напиши решение тут\nmy_string = 'nlbolyjccblyszlblzsclnclmxzijc'\n\nsecret_dict = {\n    'v': 'w',\n    'x': 'y',\n    'i': 'h',\n    'q': 'l',\n    'c': 'n',\n    'o': 'm',\n    'b': 'a',\n    'f': 'r',\n    'j': 'o',\n    's': 'e',\n    'z': 't',\n    'g': 'k',\n    'l': ' ',\n    'k': 'c',\n    'm': 'p',\n    'n': 'i',\n    'w': 's',\n    'd': 'f',\n    'u': 'u',\n    'r': 'd',\n    'e': 'x',\n    'y': 'g'\n}\n\ndecrypted_string = \"\"\nfor char in my_string:\n    for key, value in secret_dict.items():\n        if char == key:\n            decrypted_string += value\n            break\n    else:\n        decrypted_string += char\n\nprint(decrypted_string)",
      "metadata": {
        "ExecuteTime": {
          "end_time": "2024-12-17T20:56:24.178896Z",
          "start_time": "2024-12-17T20:56:24.175887Z"
        }
      },
      "outputs": [],
      "execution_count": 21
    }
  ]
}