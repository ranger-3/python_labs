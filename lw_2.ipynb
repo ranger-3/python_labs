{
  "metadata": {
    "kernelspec": {
      "name": "python",
      "display_name": "Python (Pyodide)",
      "language": "python"
    },
    "language_info": {
      "codemirror_mode": {
        "name": "ipython",
        "version": 2
      },
      "file_extension": ".py",
      "mimetype": "text/x-python",
      "name": "python",
      "nbconvert_exporter": "python",
      "pygments_lexer": "ipython2",
      "version": "2.7.6"
    }
  },
  "nbformat_minor": 5,
  "nbformat": 4,
  "cells": [
    {
      "id": "9e9f885ad1cd3def",
      "cell_type": "markdown",
      "source": "# Лабораторная №2",
      "metadata": {}
    },
    {
      "id": "425707c53189a3f4",
      "cell_type": "markdown",
      "source": "## Условия, циклы, функции",
      "metadata": {}
    },
    {
      "id": "2a4a09414a32a3d5",
      "cell_type": "markdown",
      "source": "\nНам дали задачу проверить, является ли участок земли квадратным. В переменных `length` и `width` заданы значения длины и ширины участка. Необходимо проверить, является ли он квадратным. Сохраните в переменную `result` значение `True`, если участок квадратный, и `False` — если нет.",
      "metadata": {}
    },
    {
      "id": "initial_id",
      "cell_type": "code",
      "source": "length = 121\nwidth = 100\nresult = False\n\n#Пример 2\nlength = 10\nwidth = 10\nresult = True",
      "metadata": {
        "collapsed": true,
        "ExecuteTime": {
          "end_time": "2024-12-09T11:59:00.117606Z",
          "start_time": "2024-12-09T11:59:00.114166Z"
        },
        "jupyter": {
          "outputs_hidden": true
        }
      },
      "outputs": [],
      "execution_count": 1
    },
    {
      "id": "2a8406f5868bba93",
      "cell_type": "code",
      "source": "# Напиши решение тут\nlength = 121\nwidth = 100\nresult = length == width\nprint(result)",
      "metadata": {
        "ExecuteTime": {
          "end_time": "2024-12-09T11:59:13.036578Z",
          "start_time": "2024-12-09T11:59:13.033939Z"
        },
        "trusted": true
      },
      "outputs": [],
      "execution_count": null
    },
    {
      "id": "83b5067e4a0fa617",
      "cell_type": "markdown",
      "source": "\nМы решили выплатить премии сотрудникам в зависимости от их стажа работы. Премия рассчитывается следующим образом:\n\n- Если стаж работы сотрудника больше или равен 2 года, премия составляет 2 оклада.\n- Если стаж работы сотрудника больше или равен 5 лет, премия составляет 5 окладов.\n- Если стаж работы сотрудника больше или равен 15 лет, премия составляет 10 окладов.\n- Если стаж работы меньше 2 лет, премия равна 0.\n\nВ переменной `salary` — зарплата сотрудника, в переменной `work_experience` — его стаж. Нужно вычислить размер премии и сохранить результат в переменную `result`.",
      "metadata": {}
    },
    {
      "id": "4947ebf0ab3ebbd8",
      "cell_type": "code",
      "source": "# Пример 1\nsalary = 150000\nwork_experience = 3\nresult = 300000\n\n# Пример 2\nsalary = 100000\nwork_experience = 1\nresult = 0\n\n# Пример 3\nsalary = 200000\nwork_experience = 16\nresult = 2000000",
      "metadata": {
        "ExecuteTime": {
          "end_time": "2024-12-09T12:03:56.260649Z",
          "start_time": "2024-12-09T12:03:56.257743Z"
        }
      },
      "outputs": [],
      "execution_count": 5
    },
    {
      "id": "1189f927e3a63e2c",
      "cell_type": "code",
      "source": "# Напиши решение тут\nsalary = 150000\nwork_experience = 3\n\nif work_experience >= 15:\n    result = 10 * salary\nelif work_experience >= 5:\n    result = 5 * salary\nelif work_experience >= 2:\n    result = 2 * salary\nelse:\n    result = 0\n\nprint(result)\n",
      "metadata": {
        "ExecuteTime": {
          "end_time": "2024-12-09T12:03:56.915203Z",
          "start_time": "2024-12-09T12:03:56.912679Z"
        }
      },
      "outputs": [],
      "execution_count": 6
    },
    {
      "id": "1a47c0bb8604d85e",
      "cell_type": "markdown",
      "source": "Есть словарь `sales`, содержащий информацию о продуктах и их ценах в магазине. В список `affordable_products` нужно сохранить названия всех продуктов, которые стоят меньше или равны 500.",
      "metadata": {}
    },
    {
      "id": "d4fee48cb2dabcf5",
      "cell_type": "code",
      "source": "sales = {\n    \"laptop\": 700,\n    \"smartphone\": 100,\n    \"headphones\": 50,\n    \"mouse\": 20,\n    \"keyboard\": 40\n}\n# Output: ['laptop', 700]",
      "metadata": {
        "ExecuteTime": {
          "end_time": "2024-12-09T12:07:09.133555Z",
          "start_time": "2024-12-09T12:07:09.130844Z"
        }
      },
      "outputs": [],
      "execution_count": 8
    },
    {
      "id": "5bb1f8d2b45d553a",
      "cell_type": "code",
      "source": "# Напиши решение тут\nsales = {\n    \"laptop\": 700,\n    \"smartphone\": 100,\n    \"headphones\": 50,\n    \"mouse\": 20,\n    \"keyboard\": 40\n}\n\naffordable_products = [product for product, price in sales.items() if price <= 500]\n\nprint(affordable_products)",
      "metadata": {
        "ExecuteTime": {
          "end_time": "2024-12-09T12:06:09.715210Z",
          "start_time": "2024-12-09T12:06:09.712067Z"
        }
      },
      "outputs": [],
      "execution_count": 7
    },
    {
      "id": "68ac8bcb0e04fdc5",
      "cell_type": "markdown",
      "source": "Напишите программу, принимающую в виде аргументов два списка `lst_1` и `lst_2` и определяющую, являются ли они противоположными друг другу. Результат проверки сохраните в result в формате True или False.\n\nКаждая пара списков будет состоять из одинаковых элементов (типа a и b). Список считается анти-списком, если все элементы в нем противоположны соответствующим элементам в первом списке.\n",
      "metadata": {}
    },
    {
      "id": "c247de3ee5a9e60a",
      "cell_type": "code",
      "source": "lst_1 = [\"1\", \"0\", \"0\", \"1\"]\nlst_2 = [\"0\", \"1\", \"1\", \"0\"]\nresult = True\n\nlst_1 = [3, 4]\nlst_2 = [4, 3]\nresult = True\n\nlst_1 = [1, 1]\nlst_2 = [2, 2]\nresult = False\n",
      "metadata": {
        "ExecuteTime": {
          "end_time": "2024-12-09T12:10:09.592660Z",
          "start_time": "2024-12-09T12:10:09.589368Z"
        }
      },
      "outputs": [],
      "execution_count": 9
    },
    {
      "id": "c1b907387b93a29a",
      "cell_type": "code",
      "source": "# Напиши решение тут\n\nresult = lst_1 == lst_2[::-1]\nprint(result)",
      "metadata": {},
      "outputs": [],
      "execution_count": null
    },
    {
      "id": "e6c61ed00e1f78e7",
      "cell_type": "markdown",
      "source": "Задана переменная `m` — список из списков одинаковой длины. Проверьте, что суммы элементов на диагоналях равны.\n\nРезультат проверки сохраните в `result` в формате True или False.",
      "metadata": {}
    },
    {
      "id": "52f6aa07b6b69e8",
      "cell_type": "code",
      "source": "# Пример 1\nm = [[1, 23, 4],\n     [3, 2, 1],\n     [6, 3, 4]]\nresult = False\n\n# Пример 2\nm = [[1, 23, 4],\n     [3, 2, 1],\n     [1, 3, 4]]\nresult = True\n\n",
      "metadata": {
        "ExecuteTime": {
          "end_time": "2024-12-09T22:13:25.877832Z",
          "start_time": "2024-12-09T22:13:25.865474Z"
        }
      },
      "outputs": [],
      "execution_count": 13
    },
    {
      "id": "e305f64695a0519c",
      "cell_type": "code",
      "source": "# Напиши решение тут\n\nmain_diagonal_sum = sum(m[i][i] for i in range(len(m)))\nsecondary_diagonal_sum = sum(m[i][len(m) - 1 - i] for i in range(len(m)))\n\nresult = main_diagonal_sum == secondary_diagonal_sum\n\nprint(result)",
      "metadata": {
        "ExecuteTime": {
          "end_time": "2024-12-09T22:13:30.410637Z",
          "start_time": "2024-12-09T22:13:30.407043Z"
        }
      },
      "outputs": [],
      "execution_count": 14
    },
    {
      "id": "32734e2d177c9fa",
      "cell_type": "markdown",
      "source": "Дан список кортежей `input_list`. Отсортируйте `input_list` по 2 элементу кортежа в порядке убывания. Отфильтруйте список так, чтобы остались только те элементы, второе значение в кортеже у которых кратно 5.\n\nРезультат сохраните в `result`.\n\nДля решения задачи используйте lambda-функцию.",
      "metadata": {}
    },
    {
      "id": "54ca7285b6d4f539",
      "cell_type": "code",
      "source": "input_list = [('Anna', 13), ('Ivan', 20), ('Irina', 23), ('Olga', 25),\n              ('Ivan', 30), ('Oleg', 24), ('Olga', 26)]\nresult = [('Ivan', 30), ('Olga', 25), ('Ivan', 20)]",
      "metadata": {
        "ExecuteTime": {
          "end_time": "2024-12-09T22:14:35.143038Z",
          "start_time": "2024-12-09T22:14:35.135629Z"
        }
      },
      "outputs": [],
      "execution_count": 15
    },
    {
      "id": "9c9b829170cb8f2a",
      "cell_type": "code",
      "source": "# Напиши решение тут\nfiltered_list = [item for item in input_list if item[1] % 5 == 0]\nsorted_list = sorted(filtered_list, key=lambda x: x[1], reverse=True)\nprint(sorted_list)",
      "metadata": {},
      "outputs": [],
      "execution_count": null
    },
    {
      "id": "d7f53fd342d1cd0f",
      "cell_type": "markdown",
      "source": "Гипотеза Коллатца: какое бы начальное натуральное число n мы ни взяли, рано или поздно мы получим единицу, если выполняем следующие преобразования:\n\n- Если n чётное, то делим его на 2;\n- Если n нечётное, то умножаем на 3 и прибавляем 1 (получаем 3n + 1).\nНапишите функцию `def collatz_conjecture()`, которая будет принимать натуральное число n и возвращать последовательность чисел, полученных указанными выше преобразованиями.",
      "metadata": {}
    },
    {
      "id": "a11c1692c9761fa4",
      "cell_type": "code",
      "source": "def collatz_conjecture(n):\n    ...\n\ncollatz_conjecture(8) # -> [8, 4, 2, 1]\ncollatz_conjecture(3) # -> [3, 10, 5, 16, 8, 4, 2, 1]\n",
      "metadata": {
        "ExecuteTime": {
          "end_time": "2024-12-09T22:15:55.028720Z",
          "start_time": "2024-12-09T22:15:55.023155Z"
        }
      },
      "outputs": [],
      "execution_count": 16
    },
    {
      "id": "5b5cc07ed41f2515",
      "cell_type": "code",
      "source": "# Напиши решение тут\ndef collatz_conjecture(n):\n    sequence = [n]\n    while n != 1:\n        if n % 2 == 0:\n            n = n // 2\n        else:\n            n = 3 * n + 1\n        sequence.append(n)\n    return sequence\n",
      "metadata": {
        "ExecuteTime": {
          "end_time": "2024-12-09T12:17:45.752499Z",
          "start_time": "2024-12-09T12:17:45.750033Z"
        }
      },
      "outputs": [],
      "execution_count": 12
    }
  ]
}