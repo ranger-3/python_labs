{
  "metadata": {
    "kernelspec": {
      "name": "python",
      "display_name": "Python (Pyodide)",
      "language": "python"
    },
    "language_info": {
      "codemirror_mode": {
        "name": "ipython",
        "version": 2
      },
      "file_extension": ".py",
      "mimetype": "text/x-python",
      "name": "python",
      "nbconvert_exporter": "python",
      "pygments_lexer": "ipython2",
      "version": "2.7.6"
    }
  },
  "nbformat_minor": 5,
  "nbformat": 4,
  "cells": [
    {
      "id": "dbdc233127f696cc",
      "cell_type": "markdown",
      "source": "# Лабораторная №4",
      "metadata": {}
    },
    {
      "id": "4d4d2deb96c025ef",
      "cell_type": "markdown",
      "source": "## ООП",
      "metadata": {}
    },
    {
      "id": "d3c53e7d4eb1979f",
      "cell_type": "markdown",
      "source": "Необходимо разработать класс `Pet`, который будет представлять питомца в контексте системы управления отелем для животных. В классе должны быть инкапсулированы следующие свойства:\n\n1. **name**: имя питомца.\n2. **breed**: порода питомца.\n3. **age**: возраст питомца.\n\nДля каждого из этих свойств требуется реализовать методы доступа (геттеры) и методы изменения (сеттеры). Для этого используйте декораторы `@property` и `@<property_name>.setter`.\n\n#### Требования:\n1. Создайте класс `Pet`, который принимает три параметра в конструкторе: `name`, `breed` и `age`.\n2. Реализуйте геттеры для каждого из этих свойств с помощью декоратора `@property`.\n3. Реализуйте сеттеры для каждого из этих свойств с помощью декоратора `@<property_name>.setter`.\n4. Продемонстрируйте работу класса, создав объект `Pet` с определёнными значениями и изменив его свойства через сеттеры.\n\n",
      "metadata": {}
    },
    {
      "id": "initial_id",
      "cell_type": "code",
      "source": "class Pet:\n    def __init__(self, name, breed, age):\n        self._name = name\n        self._breed = breed\n        self._age = age\n\n    @property\n    def name(self):\n        return self._name\n\n    @name.setter\n    def name(self, value):\n        self._name = value\n\n    @property\n    def breed(self):\n        return self._breed\n\n    @breed.setter\n    def breed(self, value):\n        self._breed = value\n\n    @property\n    def age(self):\n        return self._age\n\n    @age.setter\n    def age(self, value):\n        if value < 0:\n            raise ValueError(\"Возраст не может быть отрицательным.\")\n        self._age = value\n\n\n# Пример использования:\npet = Pet(\"Лара\", \"Кошка\", 3)\nprint(pet.name)  # Лара\npet.age = 4\nprint(pet.age)  # 4\n",
      "metadata": {
        "ExecuteTime": {
          "end_time": "2024-12-09T12:51:53.511130Z",
          "start_time": "2024-12-09T12:51:53.509015Z"
        }
      },
      "outputs": [],
      "execution_count": 2
    },
    {
      "id": "1bfe9c139ee8f0f3",
      "cell_type": "markdown",
      "source": "Создайте два класса-наследника Cat и Dog, которые будут добавлять уникальные атрибуты и методы для каждого типа животного.",
      "metadata": {}
    },
    {
      "id": "d05408bff38706e3",
      "cell_type": "markdown",
      "source": "#### Требования:\n\n1. **Класс `Cat`**, который наследуется от `Pet`, должен добавлять:\n   - **favorite_toy** (любимая игрушка).\n   - Метод `play()`, который возвращает строку, описывающую игру питомца с любимой игрушкой.\n\n2. **Класс `Dog`**, который также наследуется от `Pet`, должен добавлять:\n   - **trick** (трик, который питомец умеет выполнять).\n   - Метод `perform_trick()`, который возвращает строку с описанием выполнения трюка.\n\n3. Использовать **сеттеры** для изменения значений, например, для установки любимой игрушки у кошки и выполнения трюка у собаки.\n\n",
      "metadata": {}
    },
    {
      "id": "887063e06668c41e",
      "cell_type": "code",
      "source": "class Pet:\n    def __init__(self, name, breed, age):\n        self._name = name\n        self._breed = breed\n        self._age = age\n\n    @property\n    def name(self):\n        return self._name\n\n    @name.setter\n    def name(self, value):\n        self._name = value\n\n    @property\n    def breed(self):\n        return self._breed\n\n    @breed.setter\n    def breed(self, value):\n        self._breed = value\n\n    @property\n    def age(self):\n        return self._age\n\n    @age.setter\n    def age(self, value):\n        if value < 0:\n            raise ValueError(\"Возраст не может быть отрицательным.\")\n        self._age = value\n\n\nclass Cat(Pet):\n    def __init__(self, name, breed, age, favorite_toy):\n        super().__init__(name, breed, age)\n        self._favorite_toy = favorite_toy\n\n    @property\n    def favorite_toy(self):\n        return self._favorite_toy\n\n    @favorite_toy.setter\n    def favorite_toy(self, value):\n        self._favorite_toy = value\n\n    def play(self):\n        return f\"{self.name} играет с {self.favorite_toy}\"\n\n\nclass Dog(Pet):\n    def __init__(self, name, breed, age, trick):\n        super().__init__(name, breed, age)\n        self._trick = trick\n\n    @property\n    def trick(self):\n        return self._trick\n\n    @trick.setter\n    def trick(self, value):\n        self._trick = value\n\n    def perform_trick(self):\n        return f\"{self.name} выполняет трюк: {self.trick}\"\n\n\n# Пример использования:\ncat = Cat(\"Лара\", \"Кошка\", 3, \"мячик\")\ndog = Dog(\"Рекс\", \"Собака\", 5, \"крутит хвост\")\n\nprint(cat.name)  # Лара\ncat.favorite_toy = \"ниточка\"\nprint(cat.play())  # Лара играет с ниточка\nprint(dog.name)  # Рекс\nprint(dog.perform_trick())  # Рекс выполняет трюк: крутит хвост\n",
      "metadata": {
        "ExecuteTime": {
          "end_time": "2024-12-09T12:51:59.636606Z",
          "start_time": "2024-12-09T12:51:59.634915Z"
        },
        "trusted": true
      },
      "outputs": [],
      "execution_count": null
    },
    {
      "id": "3e2c263e750c179a",
      "cell_type": "markdown",
      "source": "Добавьте в классы Cat и Dog метод `make_sound()`, который будет выводить характерный звук для каждого животного.\\\nВ методе `make_sound()` используйте полиморфизм с `@property`, чтобы каждый класс реализовал свой собственный звук.",
      "metadata": {}
    },
    {
      "id": "e5db45bc0dd3d5c3",
      "cell_type": "markdown",
      "source": "#### Требования:\n\n1. **Базовый класс `Pet`**:\n   - Должен содержать атрибуты: `name` (имя питомца), `breed` (порода) и `age` (возраст).\n   - Для каждого питомца должен быть предусмотрен метод `sound()`, который будет переопределяться в дочерних классах.\n   - Метод `sound()` должен быть абстрактным (с использованием исключения `NotImplementedError`), что означает, что дочерние классы обязаны реализовать этот метод.\n\n2. **Класс `Cat`, наследующий от `Pet`**:\n   - Добавьте атрибут `favorite_toy` (любимая игрушка).\n   - Переопределите метод `sound()`, чтобы выводить типичный для кошек звук, например, `\"Meow!\"`.\n   - Добавьте метод `make_sound()`, который будет выводить строку: `\"Имя питомца говорит: Meow!\"` с использованием полиморфизма через `@property`.\n\n3. **Класс `Dog`, наследующий от `Pet`**:\n   - Добавьте атрибут `trick` (трик, который питомец умеет выполнять).\n   - Переопределите метод `sound()`, чтобы выводить типичный для собак звук, например, `\"Woof!\"`.\n   - Добавьте метод `make_sound()`, который будет выводить строку: `\"Имя питомца говорит: Woof!\"` с использованием полиморфизма через `@property`.\n\n4. **Использование полиморфизма**:\n   - В методе `make_sound()` примените полиморфизм с использованием `@property` для каждого класса, чтобы метод динамически определял, какой звук воспроизводит питомец в зависимости от его типа.\n\n\n",
      "metadata": {}
    },
    {
      "id": "ec95ba6e38d157a5",
      "cell_type": "code",
      "source": "class Pet:\n    def __init__(self, name, breed, age):\n        self._name = name\n        self._breed = breed\n        self._age = age\n\n    @property\n    def name(self):\n        return self._name\n\n    @property\n    def breed(self):\n        return self._breed\n\n    @property\n    def age(self):\n        return self._age\n\n    def sound(self):\n        raise NotImplementedError(\"Метод sound должен быть переопределен в дочернем классе\")\n\n    @property\n    def make_sound(self):\n        return f\"{self.name} говорит: {self.sound()}\"\n\n\nclass Cat(Pet):\n    def __init__(self, name, breed, age, favorite_toy):\n        super().__init__(name, breed, age)\n        self._favorite_toy = favorite_toy\n\n    @property\n    def favorite_toy(self):\n        return self._favorite_toy\n\n    @favorite_toy.setter\n    def favorite_toy(self, value):\n        self._favorite_toy = value\n\n    # Переопределяем метод sound для кошки\n    def sound(self):\n        return \"Meow!\"\n\n\nclass Dog(Pet):\n    def __init__(self, name, breed, age, trick):\n        super().__init__(name, breed, age)\n        self._trick = trick\n\n    @property\n    def trick(self):\n        return self._trick\n\n    @trick.setter\n    def trick(self, value):\n        self._trick = value\n\n    def sound(self):\n        return \"Woof!\"\n\n\n# Пример использования:\n\ncat = Cat(\"Лара\", \"Кошка\", 3, \"мячик\")\ndog = Dog(\"Рекс\", \"Собака\", 5, \"крутит хвост\")\n\n# Вызов метода make_sound, который использует полиморфизм\nprint(cat.make_sound)  # Лара говорит: Meow!\nprint(dog.make_sound)  # Рекс говорит: Woof!\n",
      "metadata": {},
      "outputs": [],
      "execution_count": null
    },
    {
      "id": "d1a567f0e98281f1",
      "cell_type": "code",
      "source": "",
      "metadata": {},
      "outputs": [],
      "execution_count": null
    }
  ]
}