{
  "metadata": {
    "kernelspec": {
      "name": "python",
      "display_name": "Python (Pyodide)",
      "language": "python"
    },
    "language_info": {
      "codemirror_mode": {
        "name": "ipython",
        "version": 2
      },
      "file_extension": ".py",
      "mimetype": "text/x-python",
      "name": "python",
      "nbconvert_exporter": "python",
      "pygments_lexer": "ipython2",
      "version": "2.7.6"
    }
  },
  "nbformat_minor": 5,
  "nbformat": 4,
  "cells": [
    {
      "id": "9a81179d10da8330",
      "cell_type": "markdown",
      "source": "# Лабораторная №1",
      "metadata": {}
    },
    {
      "id": "13feb24fde5be69a",
      "cell_type": "markdown",
      "source": "## Типы данных",
      "metadata": {}
    },
    {
      "id": "535f9e86de783809",
      "cell_type": "markdown",
      "source": "Создайте программу, которая будет приветствовать пользователя:\nСначала попросите пользователя ввести свое имя.\nЗатем выведите приветственное сообщение, используя введенное имя.",
      "metadata": {}
    },
    {
      "id": "6023d4389ce6cd8",
      "cell_type": "markdown",
      "source": "#### Пример:\nEnter your name: Olya\\\nHi, Olya! Welcome!\n",
      "metadata": {}
    },
    {
      "id": "initial_id",
      "cell_type": "code",
      "source": "name = input(\"Enter your name: \")\nprint(f\"Hi, {name}! Welcome!\")",
      "metadata": {
        "collapsed": true,
        "ExecuteTime": {
          "end_time": "2024-12-09T11:54:52.877187Z",
          "start_time": "2024-12-09T11:54:52.874622Z"
        },
        "jupyter": {
          "outputs_hidden": true
        }
      },
      "outputs": [],
      "execution_count": 5
    },
    {
      "id": "c974779de734f3f5",
      "cell_type": "markdown",
      "source": "\n1. Создайте переменную `user_name` и сохраните в нее имя пользователя (строка, минимум из двух символов).\n2. Создайте переменную `device_name` и сохраните в нее название устройства (строка, минимум из двух символов).\n3. Создайте переменную `device_age`, в которой будет храниться возраст устройства (неотрицательное число).\n4. Создайте переменную `is_under_warranty`, которая будет содержать значение `True`, если устройство на гарантии, или `False`, если нет.",
      "metadata": {}
    },
    {
      "id": "1706cc04f917c519",
      "cell_type": "code",
      "source": "user_name = input(\"Enter your name (min 2 characters): \")\n\ndevice_name = input(\"Enter device name (min 2 characters): \")\n\ndevice_age = abs(int(input(\"Enter device age (non-negative number): \")))\n\nis_under_warranty = input(\"Is the device under warranty? (yes/no): \").lower() == \"yes\"\n\n\nprint(f\"User Name: {user_name}\")\nprint(f\"Device Name: {device_name}\")\nprint(f\"Device Age: {device_age} years\")\nprint(f\"Is under warranty: {is_under_warranty}\")",
      "metadata": {
        "ExecuteTime": {
          "end_time": "2024-12-08T09:01:43.897304Z",
          "start_time": "2024-12-08T09:01:43.893859Z"
        }
      },
      "outputs": [],
      "execution_count": 1
    },
    {
      "id": "9167b3f37213d5a8",
      "cell_type": "markdown",
      "source": "Выведите на экран тип данных для определенных ранее переменных.",
      "metadata": {}
    },
    {
      "id": "a5fde07e6e8977cb",
      "cell_type": "code",
      "source": "# Напиши решение тут\nprint(f\"Type of user_name: {type(user_name)}\")\nprint(f\"Type of device_name: {type(device_name)}\")\nprint(f\"Type of device_age: {type(device_age)}\")\nprint(f\"Type of is_under_warranty: {type(is_under_warranty)}\")",
      "metadata": {
        "ExecuteTime": {
          "end_time": "2024-12-08T09:01:50.986354Z",
          "start_time": "2024-12-08T09:01:50.983207Z"
        }
      },
      "outputs": [],
      "execution_count": 2
    },
    {
      "id": "4beb2fbddf03bbda",
      "cell_type": "markdown",
      "source": "1. Преобразуйте строку имени в нижний регистр и сохраните результат в новой переменной.\n2. Создайте строку по шаблону `\"user_name__object_name\"`.\n3. Выведите длину получившейся строки.",
      "metadata": {}
    },
    {
      "id": "573c572586967639",
      "cell_type": "code",
      "source": "# Напиши решение тут\nuser_name_lower = user_name.lower()\n\nresult_string = f\"{user_name_lower}__{device_name}\"\n\nprint(f\"The length of the resulting string is: {len(result_string)}\")\n",
      "metadata": {
        "ExecuteTime": {
          "end_time": "2024-12-08T09:05:20.954730Z",
          "start_time": "2024-12-08T09:05:20.951642Z"
        }
      },
      "outputs": [],
      "execution_count": 3
    },
    {
      "id": "5d547bfdd571f872",
      "cell_type": "markdown",
      "source": "Используя навыки форматирования строк в Python, выведите на экран следующую фразу, подставив значения переменных:\n\"{user_name} недавно приобрел {object_name}, которому всего {object_age} лет.\"",
      "metadata": {}
    },
    {
      "id": "93d009ebee158763",
      "cell_type": "code",
      "source": "# Напиши решение тут\nuser_name = input(\"Enter your name: \")\ndevice_name = input(\"Enter device name: \")\ndevice_age = int(input(\"Enter device age: \"))\nprint(f\"{user_name} недавно приобрел {device_name}, которому всего {device_age} лет.\")",
      "metadata": {
        "ExecuteTime": {
          "end_time": "2024-12-08T09:36:31.294315Z",
          "start_time": "2024-12-08T09:36:31.291576Z"
        }
      },
      "outputs": [],
      "execution_count": 5
    },
    {
      "id": "b182d7062fd2ec90",
      "cell_type": "markdown",
      "source": "Нам интересно узнать, является ли имя объекта палиндромом. Проверьте это, используя срезы.",
      "metadata": {}
    },
    {
      "id": "8de8e4c76fac1e71",
      "cell_type": "code",
      "source": "# Напиши решение тут\nobject_name = input(\"Enter object name: \")\nif object_name == object_name[::-1]:\n    print(\"The object name is a palindrome.\")\nelse:\n    print(\"The object name is not a palindrome.\")",
      "metadata": {
        "ExecuteTime": {
          "end_time": "2024-12-08T22:18:14.739713Z",
          "start_time": "2024-12-08T22:18:14.735804Z"
        }
      },
      "outputs": [],
      "execution_count": 14
    },
    {
      "id": "b0158dd42eeebfed",
      "cell_type": "markdown",
      "source": "В переменной `our_text` сохранено некоторое предложение, в котором могут быть добавлены лишние пробелы. Напишите программу, которая будет убирать из `our_text` лишние пробелы и сохранять результат в переменную `result`.\nВсе слова должны быть разделены одним пробелом, а в начале и конце предложения пробелов быть не должно.",
      "metadata": {}
    },
    {
      "id": "3cd4f31f635bca0",
      "cell_type": "code",
      "source": "our_text = \"We     are located  on Pushkin      Street.   \"\nresult = \"We are located on Pushkin Street.\"\n",
      "metadata": {
        "ExecuteTime": {
          "end_time": "2024-12-08T10:05:12.367240Z",
          "start_time": "2024-12-08T10:05:12.363874Z"
        }
      },
      "outputs": [],
      "execution_count": 6
    },
    {
      "id": "36705cf2b1431541",
      "cell_type": "code",
      "source": "# Напиши решение тут\nour_text = \"We     are located  on Pushkin      Street.   \"\nresult = \" \".join(our_text.split())\nprint(result)",
      "metadata": {
        "ExecuteTime": {
          "end_time": "2024-12-08T22:29:49.603518Z",
          "start_time": "2024-12-08T22:29:49.600307Z"
        }
      },
      "outputs": [],
      "execution_count": 2
    },
    {
      "id": "df621069ed13e48",
      "cell_type": "markdown",
      "source": "Мы хотим улучшить процесс шифрования и хранения информации о платежах, чтобы обеспечить конфиденциальность и защиту данных.\\\nНапишите программу, которая будет принимать номер кредитной карты `card` и возвращать номер карты, в котором будут видны только последние 4 цифры. Остальные цифры должны заменяться звездочками.\\\nРезультат сохраните в `result`.",
      "metadata": {}
    },
    {
      "id": "5cee3863129cccf0",
      "cell_type": "code",
      "source": "card = '5468350018455833'\nresult = '************5833'",
      "metadata": {
        "ExecuteTime": {
          "end_time": "2024-12-08T10:06:51.486317Z",
          "start_time": "2024-12-08T10:06:51.483740Z"
        }
      },
      "outputs": [],
      "execution_count": 11
    },
    {
      "id": "a16eca170ac4f54b",
      "cell_type": "code",
      "source": "# Напиши решение тут\ncard = '5468350018455833'\nresult = '*' * (len(card) - 4) + card[-4:]\nprint(result)",
      "metadata": {
        "ExecuteTime": {
          "end_time": "2024-12-08T22:30:37.334953Z",
          "start_time": "2024-12-08T22:30:37.332365Z"
        }
      },
      "outputs": [],
      "execution_count": 3
    },
    {
      "id": "800123d387461d89",
      "cell_type": "markdown",
      "source": "В переменной `my_list` сохранен не пустой список, в котором есть число 11.\n\nНайдите первый индекс числа 11 в `my_list`, сохраните индекс в переменную `eleven_index`.\n\nВ переменную `ten_count` сохраните, сколько раз в списке `my_list` встречается число 10.",
      "metadata": {}
    },
    {
      "id": "c648910d57bbaea4",
      "cell_type": "code",
      "source": "my_list = [1, 9, 0, 9, 10]\nten_index = 4\nnine_count = 2\n\n\nmy_list = [11, 2, 0, 6]\nten_index = 0\nnine_count = 0",
      "metadata": {
        "ExecuteTime": {
          "end_time": "2024-12-09T21:57:31.750794Z",
          "start_time": "2024-12-09T21:57:31.738571Z"
        }
      },
      "outputs": [],
      "execution_count": 6
    },
    {
      "id": "a7ffd1e1c7452fe2",
      "cell_type": "code",
      "source": "# Напиши решение тут\nmy_list = [11, 2, 0, 6]\n\neleven_index = my_list.index(11)\nten_count = my_list.count(10)\n\nprint(\"Index of 11:\", eleven_index)\nprint(\"Count of 10:\", ten_count)",
      "metadata": {
        "ExecuteTime": {
          "end_time": "2024-12-08T23:07:55.934563Z",
          "start_time": "2024-12-08T23:07:55.932024Z"
        }
      },
      "outputs": [],
      "execution_count": 5
    },
    {
      "id": "1b82470f1fe0d82e",
      "cell_type": "markdown",
      "source": "1. В списке `names` содержатся различные имена. Добавьте в этот список два новых имени: `'Ann'` и `'Bob'`.\n2. В списке `dates` содержится список из десяти чисел, представляющих дни месяца. Удалите из этого списка второй, пятый и последний день. Учтите, что индексы элементов смещаются после каждой операции удаления.\n3. В списке `items` содержатся названия различных элементов. Отсортируйте этот список в алфавитном порядке.",
      "metadata": {}
    },
    {
      "id": "9ebac36854610ddb",
      "cell_type": "code",
      "source": "names = ['Peter', 'Maria', 'Alexander', 'Olga']\ndates = [1, 3, 5, 7, 9, 10, 12, 14, 16, 18]\nitems = ['Lamp', 'Table', 'Book', 'Pen', 'Notebook']\n",
      "metadata": {
        "ExecuteTime": {
          "end_time": "2024-12-08T23:10:46.481634Z",
          "start_time": "2024-12-08T23:10:46.477465Z"
        }
      },
      "outputs": [],
      "execution_count": 6
    },
    {
      "id": "d0bc008d95ee498b",
      "cell_type": "code",
      "source": "# Напиши решение тут\nnames.append('Ann')\nnames.append('Bob')\n\ndel dates[1]\ndel dates[3]\ndel dates[-1]\n\nitems.sort()",
      "metadata": {
        "ExecuteTime": {
          "end_time": "2024-12-08T23:10:52.145141Z",
          "start_time": "2024-12-08T23:10:52.142787Z"
        }
      },
      "outputs": [],
      "execution_count": 7
    },
    {
      "id": "f6d415e4a4c9cbe5",
      "cell_type": "markdown",
      "source": "В переменной `catalog` хранится множество всех товаров интернет-магазина, а в переменной `out_of_stock` — множество товаров, которые отсутствуют на складе. Сохраните в переменную `available_items` товары, которые доступны для заказа.",
      "metadata": {}
    },
    {
      "id": "e04c3bd33acd20f3",
      "cell_type": "code",
      "source": "catalog = {\"Laptop\", \"Smartphone\", \"Headphones\", \"Camera\", \"Tablet\"}\nout_of_stock = {\"Camera\", \"Tablet\"}\n\nresult =  {'Laptop', 'Smartphone', 'Headphones'}",
      "metadata": {
        "ExecuteTime": {
          "end_time": "2024-12-08T23:14:11.276325Z",
          "start_time": "2024-12-08T23:14:11.272652Z"
        }
      },
      "outputs": [],
      "execution_count": 8
    },
    {
      "id": "33800330d03fefcc",
      "cell_type": "code",
      "source": "# Напиши решение тут\ncatalog = {\"Laptop\", \"Smartphone\", \"Headphones\", \"Camera\", \"Tablet\"}\nout_of_stock = {\"Camera\", \"Tablet\"}\n\navailable_items = catalog.difference(out_of_stock)",
      "metadata": {
        "ExecuteTime": {
          "end_time": "2024-12-08T23:14:23.684952Z",
          "start_time": "2024-12-08T23:14:23.681998Z"
        }
      },
      "outputs": [],
      "execution_count": 9
    },
    {
      "id": "18962158aa651348",
      "cell_type": "markdown",
      "source": "В переменной `my_set` множество (set) из чисел. В переменной `to_delete` число, которое нужно удалить из `my_set`, если оно там есть. Если такого числа нет в `my_set` ничего делать не надо.",
      "metadata": {}
    },
    {
      "id": "22eaeb7537406de7",
      "cell_type": "code",
      "source": "my_set = {0, 10, 100}\nto_delete = 0\n#====>\nmy_set = {10, 100} # удалили 0\n\nmy_set = {0, 10, 100}\nto_delete = -2\n#====>\nmy_set = {0, 10, 100} # ничего не сделали\n",
      "metadata": {
        "ExecuteTime": {
          "end_time": "2024-12-09T22:02:23.516522Z",
          "start_time": "2024-12-09T22:02:23.508582Z"
        }
      },
      "outputs": [],
      "execution_count": 7
    },
    {
      "id": "f19b68423faa54c",
      "cell_type": "code",
      "source": "# Напиши решение тут\nmy_set = {0, 10, 100}\nto_delete = 0\nmy_set.discard(to_delete)\n\nmy_set = {0, 10, 100}\nto_delete = -2\nmy_set.discard(to_delete)",
      "metadata": {},
      "outputs": [],
      "execution_count": null
    },
    {
      "id": "33beb1a562823b0c",
      "cell_type": "markdown",
      "source": "Вы работаете с данными, организованными в виде кортежей. Давайте обработаем эти данные:\nУ вас есть кортеж `product_info`, содержащий информацию о товаре.\nИспользуя методы и операции работы с кортежами:\n- Проверьте, содержится ли в кортеже название товара, равное `'Laptop'`.\n- Разделите кортеж на две части: информацию о продавце (первые два элемента) и информацию о товаре (оставшиеся элементы).",
      "metadata": {}
    },
    {
      "id": "e03e3edbb0428c6b",
      "cell_type": "code",
      "source": "product_info = (\"John Doe\", \"Electronics Store\", \"Laptop\", \"15-inch\", \"Intel i7\", \"16GB RAM\")\nhotel_cats = [\n    (\"Alexei\", \"Barsik\", 3, True),\n    (\"Maria\", \"Murka\", 5, False),\n    (\"Ivan\", \"Snejok\", 2, True)\n]\n",
      "metadata": {
        "ExecuteTime": {
          "end_time": "2024-12-09T11:45:48.104653Z",
          "start_time": "2024-12-09T11:45:48.100620Z"
        }
      },
      "outputs": [],
      "execution_count": 1
    },
    {
      "id": "251da2042c765254",
      "cell_type": "code",
      "source": "# Напиши решение тут\ncontains_laptop = 'Laptop' in product_info\nprint(\"Contains 'Laptop':\", contains_laptop)\n\nseller_info = product_info[:2]\nproduct_info_details = product_info[2:]\n",
      "metadata": {
        "ExecuteTime": {
          "end_time": "2024-12-09T11:45:48.118863Z",
          "start_time": "2024-12-09T11:45:48.115954Z"
        }
      },
      "outputs": [],
      "execution_count": 2
    },
    {
      "id": "9c44b7136aa33652",
      "cell_type": "markdown",
      "source": "В словаре `customer` хранятся имя клиента и список его расходов в интернет-магазине (например, за электронику, одежду и аксессуары). Создайте новый словарь `summary`, в котором будет имя клиента и самая высокая сумма из списка расходов.",
      "metadata": {}
    },
    {
      "id": "84e9c57e8b6fc471",
      "cell_type": "code",
      "source": "customer = {\n    \"owner_name\": \"Maria\",\n    \"expenses\": [120, 200, 150, 300, 250]\n}",
      "metadata": {
        "ExecuteTime": {
          "end_time": "2024-12-09T22:06:08.837466Z",
          "start_time": "2024-12-09T22:06:08.832194Z"
        }
      },
      "outputs": [],
      "execution_count": 8
    },
    {
      "id": "2fc79f115442b3fd",
      "cell_type": "code",
      "source": "# Напиши решение тут\nsummary = {\n    \"owner_name\": customer[\"owner_name\"],\n    \"highest_expense\": max(customer[\"expenses\"])\n}",
      "metadata": {
        "ExecuteTime": {
          "end_time": "2024-12-09T11:51:26.990501Z",
          "start_time": "2024-12-09T11:51:26.988083Z"
        }
      },
      "outputs": [],
      "execution_count": 4
    }
  ]
}