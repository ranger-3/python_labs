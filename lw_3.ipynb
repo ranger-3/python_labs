{
  "metadata": {
    "kernelspec": {
      "name": "python",
      "display_name": "Python (Pyodide)",
      "language": "python"
    },
    "language_info": {
      "codemirror_mode": {
        "name": "ipython",
        "version": 2
      },
      "file_extension": ".py",
      "mimetype": "text/x-python",
      "name": "python",
      "nbconvert_exporter": "python",
      "pygments_lexer": "ipython2",
      "version": "2.7.6"
    }
  },
  "nbformat_minor": 5,
  "nbformat": 4,
  "cells": [
    {
      "id": "e9c397d9723b81f9",
      "cell_type": "markdown",
      "source": "# Лабораторная №3",
      "metadata": {}
    },
    {
      "id": "e9126e1929543902",
      "cell_type": "markdown",
      "source": "## Регулярные выражения",
      "metadata": {}
    },
    {
      "id": "5c13064c49a1b748",
      "cell_type": "markdown",
      "source": "В нашем магазине все товарные коды всегда имеют формат \"B123\", где \"B\" — это буква, а \"123\" — цифры. Напишите программу, которая проверяет, соответствует ли товарный код этому формату.",
      "metadata": {}
    },
    {
      "id": "5be394ea56bf93bc",
      "cell_type": "code",
      "source": "import re",
      "metadata": {},
      "outputs": [],
      "execution_count": null
    },
    {
      "id": "initial_id",
      "cell_type": "code",
      "source": "def check_product_code(code):\n    pattern = r\"^[A-Za-z]\\d{3}$\"\n    return bool(re.match(pattern, code))\n    pass\n\n\nproduct_code  = \"B152\"\nresult = check_product_code(product_code )\nprint(result)\n",
      "metadata": {
        "ExecuteTime": {
          "end_time": "2024-12-09T12:27:44.569398Z",
          "start_time": "2024-12-09T12:27:44.567658Z"
        }
      },
      "outputs": [],
      "execution_count": null
    },
    {
      "id": "4bc60da9bced479c",
      "cell_type": "markdown",
      "source": "Нам часто поступает список книг в виде строки, где данные о каждой книге разделены пробелами или запятыми. Напишите программу, которая будет извлекать информацию о каждой книге (название, автор, год издания) и выводить их по категориям.",
      "metadata": {}
    },
    {
      "id": "b4dd5b399b1fb610",
      "cell_type": "code",
      "source": "def extract_book_info(data):\n    books = data.split(',')\n    titles, authors, years = [], [], []\n    for i in range(0, len(books), 3):\n        titles.append(books[i])\n        authors.append(books[i+1])\n        years.append(books[i+2])\n    return titles, authors, years\n\n\ndata = \"The Great Gatsby,F. Scott Fitzgerald,1925,1984,George Orwell,1949,To Kill a Mockingbird,Harper Lee,1960\"\ntitles, authors, years = extract_book_info(data)\n\n\nprint(\"Titles:\", titles)\nprint(\"Authors:\", authors)\nprint(\"Years:\", years)",
      "metadata": {
        "ExecuteTime": {
          "end_time": "2024-12-09T12:43:35.644847Z",
          "start_time": "2024-12-09T12:43:35.640972Z"
        }
      },
      "outputs": [
        {
          "name": "stdout",
          "output_type": "stream",
          "text": [
            "None\n"
          ]
        }
      ],
      "execution_count": 2
    },
    {
      "id": "3bb615a06135b91a",
      "cell_type": "markdown",
      "source": "Нам необходимо собирать контактные данные клиентов.\nНапишите программу, которая проверяет, соответствует ли введенный адрес электронной почты клиента **правильному** формату.",
      "metadata": {}
    },
    {
      "id": "ac585e1b9812306b",
      "cell_type": "markdown",
      "source": "Правильный формат адреса электронной почты обычно определяется следующими правилами:\n\n1. **Имя пользователя (local part)**:\n   - Может содержать буквы, цифры, точки (`.`), дефисы (`-`), знаки подчеркивания (`_`).\n   - Не может начинаться или заканчиваться точкой (`.`).\n   - Не допускается последовательность точек (`..`).\n\n2. **Символ `@`**:\n   - Разделяет имя пользователя и домен.\n   - Должен присутствовать ровно один раз.\n\n3. **Доменная часть (domain)**:\n   - Состоит из букв, цифр, дефисов (`-`) и точек (`.`).\n   - Должен содержать хотя бы одну точку.\n   - Доменное имя не может начинаться или заканчиваться дефисом (`-`) или точкой (`.`).\n\n4. **Домен верхнего уровня (TLD)**:\n   - Обычно состоит из 2 или более букв (например, `.com`, `.org`, `.ru`).\n\n\n\n#### Примеры ввода и проверки:\n- **Допустимые адреса**:\n  - `example@gmail.com`\n  - `user.name@sub.domain.org`\n  - `first_last123@domain.co.uk`\n\n- **Недопустимые адреса**:\n  - `user@.com` (домен не может начинаться с точки)\n  - `@domain.com` (нет имени пользователя)\n  - `user@domain` (нет TLD)\n  - `user@@domain.com` (две `@`)",
      "metadata": {}
    },
    {
      "id": "20e834bfb2499f8c",
      "cell_type": "code",
      "source": "def check_email_format(email):\n    pattern = r'^[A-Za-z0-9._-]+@[A-Za-z0-9.-]+\\.[A-Za-z]{2,}$'\n    return bool(re.match(pattern, email))\n\n\nemail = \"owner@example.com\"\nresult = check_email_format(email)\nprint(result)  # True\n",
      "metadata": {
        "ExecuteTime": {
          "end_time": "2024-12-09T22:35:30.798046Z",
          "start_time": "2024-12-09T22:35:30.786449Z"
        }
      },
      "outputs": [
        {
          "name": "stdout",
          "output_type": "stream",
          "text": [
            "None\n"
          ]
        }
      ],
      "execution_count": 3
    },
    {
      "id": "1cbf05c36d87598d",
      "cell_type": "markdown",
      "source": "Иногда клиенты могут указывать свои пищевые ограничения.\nНапишите программу, которая проверяет, упоминаются ли в записи ограничения на определенные продукты, такие как \"глютен\", \"лактоза\" или \"орехи\".",
      "metadata": {}
    },
    {
      "id": "4310d3bfe276a135",
      "cell_type": "code",
      "source": "def check_restrictions(data):\n    restrictions = [\"gluten\", \"lactose\", \"nuts\"]\n    return any(restriction in data.lower() for restriction in restrictions)\n\nclient_data = \"My diet excludes products containing lactose and gluten.\"\nif check_restrictions(client_data):\n    print(\"Dietary restrictions detected.\")\nelse:\n    print(\"No dietary restrictions detected.\")",
      "metadata": {},
      "outputs": [],
      "execution_count": null
    },
    {
      "id": "e8561ff50da1f5f8",
      "cell_type": "markdown",
      "source": "Предположим, у вас есть текст, который может содержать несколько телефонных номеров. Каждый номер телефона записан в формате:\n\n- `(XXX) XXX-XXXX`\n- `XXX-XXX-XXXX`\n- `XXX.XXX.XXXX`\n- `XXX XXX XXXX`\n\nГде `X` — цифра от 0 до 9.\n\nНапишите программу, которая будет искать все телефонные номера в тексте и выводить их.\n",
      "metadata": {}
    },
    {
      "id": "2e021001b77dffe7",
      "cell_type": "code",
      "source": "def extract_phone_numbers(text):\n    pattern = r'\\(?\\d{3}\\)?[\\s.-]?\\d{3}[\\s.-]?\\d{4}'\n    return re.findall(pattern, text)\n\ntext = \"Hi, here are some phone numbers: (123) 456-7890, 987-654-3210, 555.555.5555, 111 222 3333.\"\nprint(extract_phone_numbers(text)) #['(123) 456-7890', '987-654-3210', '555.555.5555', '111 222 3333']",
      "metadata": {},
      "outputs": [],
      "execution_count": null
    }
  ]
}